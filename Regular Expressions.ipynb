{
 "cells": [
  {
   "cell_type": "markdown",
   "id": "9e2e3f09",
   "metadata": {},
   "source": [
    "# Regular Expressions (RegEx)\n",
    "\n",
    "Regular expressions er super nyttige hvis man skal søge efter specifikke mønstre i data - eksempelvis bøjningstyper på ord, ord der starter/slutter ens mm.\n",
    "\n",
    "For at kunne arbejde med regular expressions skal vi hente pakken 're'"
   ]
  },
  {
   "cell_type": "code",
   "execution_count": 1,
   "id": "63726acc",
   "metadata": {},
   "outputs": [],
   "source": [
    "import re"
   ]
  },
  {
   "cell_type": "markdown",
   "id": "dc8c3a97",
   "metadata": {},
   "source": [
    "Jeg laver en tekststreng til eksempelbrug:"
   ]
  },
  {
   "cell_type": "code",
   "execution_count": 40,
   "id": "6f43d409",
   "metadata": {},
   "outputs": [],
   "source": [
    "test = [\"hej\", \"veninde\", \"bussen\", \"vin\", \"ven\", 'penge$']"
   ]
  },
  {
   "cell_type": "markdown",
   "id": "9ff7dd1e",
   "metadata": {},
   "source": [
    "Nu kan jeg definere et mønster, som jeg gerne vil lede efter: '^v.n$'. Dette udtryk betyder \"et ord på tre tegn der starter med v og slutter på n\""
   ]
  },
  {
   "cell_type": "code",
   "execution_count": 16,
   "id": "0f27b0aa",
   "metadata": {},
   "outputs": [
    {
     "name": "stdout",
     "output_type": "stream",
     "text": [
      "vin\n",
      "ven\n"
     ]
    }
   ],
   "source": [
    "pattern = '^v.n$'\n",
    "for word in test:\n",
    "    if re.match(pattern, word):\n",
    "        print(word)"
   ]
  },
  {
   "cell_type": "markdown",
   "id": "54b7cc44",
   "metadata": {},
   "source": [
    "Nogle karakterer har en særlig betydning, når vi bruger 're'. Det drejer sig om:\n",
    "\n",
    "* ^ indikerer at udtryk starter med den karakter, der står lige efter\n",
    "* $ udtryk ender med karakteren, der står lige før\n",
    "* [] kan bruges, hvis du leder efter flere tegn på én gang. Skal placeres rundt om tegnene\n",
    "* Hvis du leder efter en vilkårlig karakter, kan du bruge '.' (ligesom i eksemplet ovenfor)\n",
    "* du kan bruge '*', hvis du vil tjekke for matches til venstre for \n",
    "* \\d passer på alle heltal mellem 0 og 9\n",
    "\n",
    "og mange flere her: https://www.programiz.com/python-programming/regex "
   ]
  },
  {
   "cell_type": "code",
   "execution_count": 28,
   "id": "f683f61e",
   "metadata": {},
   "outputs": [
    {
     "name": "stdout",
     "output_type": "stream",
     "text": [
      "bussen\n",
      "vin\n",
      "ven\n"
     ]
    }
   ],
   "source": [
    "pattern = '.*n$'\n",
    "for word in test:\n",
    "    if re.match(pattern, word):\n",
    "        print(word)"
   ]
  },
  {
   "cell_type": "code",
   "execution_count": 31,
   "id": "baeb955e",
   "metadata": {},
   "outputs": [
    {
     "name": "stdout",
     "output_type": "stream",
     "text": [
      "veninde\n",
      "ven\n"
     ]
    }
   ],
   "source": [
    "pattern = '^ve+.'\n",
    "for word in test:\n",
    "    if re.match(pattern, word):\n",
    "        print(word)"
   ]
  },
  {
   "cell_type": "code",
   "execution_count": 41,
   "id": "8123bb9a",
   "metadata": {},
   "outputs": [
    {
     "name": "stdout",
     "output_type": "stream",
     "text": [
      "penge$\n"
     ]
    }
   ],
   "source": [
    "pattern = '.*\\$'\n",
    "for word in test:\n",
    "    if re.match(pattern, word):\n",
    "        print(word)"
   ]
  },
  {
   "cell_type": "markdown",
   "id": "a21bbd78",
   "metadata": {},
   "source": [
    "Vi kan også finde dele af en længere samling af karakterer:"
   ]
  },
  {
   "cell_type": "code",
   "execution_count": 44,
   "id": "25c96d8f",
   "metadata": {},
   "outputs": [],
   "source": [
    "test2 = \"det føles lidt som at være i 1 tørretumbler. kl 14 har vi travlt\""
   ]
  },
  {
   "cell_type": "code",
   "execution_count": 45,
   "id": "89af7bc2",
   "metadata": {},
   "outputs": [
    {
     "name": "stdout",
     "output_type": "stream",
     "text": [
      "['1', '14']\n"
     ]
    }
   ],
   "source": [
    "pattern = '\\d+'\n",
    "result = re.findall(pattern, test2)\n",
    "print(result)"
   ]
  },
  {
   "cell_type": "code",
   "execution_count": 47,
   "id": "e03fca25",
   "metadata": {},
   "outputs": [
    {
     "name": "stdout",
     "output_type": "stream",
     "text": [
      "<re.Match object; span=(0, 43), match='det føles lidt som at være i 1 tørretumbler'>\n"
     ]
    }
   ],
   "source": [
    "pattern1 = \".*e+.\"\n",
    "match = re.search(pattern1, test2)\n",
    "print(match)"
   ]
  },
  {
   "cell_type": "code",
   "execution_count": null,
   "id": "9e415818",
   "metadata": {},
   "outputs": [],
   "source": []
  }
 ],
 "metadata": {
  "kernelspec": {
   "display_name": "Python 3 (ipykernel)",
   "language": "python",
   "name": "python3"
  },
  "language_info": {
   "codemirror_mode": {
    "name": "ipython",
    "version": 3
   },
   "file_extension": ".py",
   "mimetype": "text/x-python",
   "name": "python",
   "nbconvert_exporter": "python",
   "pygments_lexer": "ipython3",
   "version": "3.9.10"
  }
 },
 "nbformat": 4,
 "nbformat_minor": 5
}
